{
  "cells": [
    {
      "cell_type": "markdown",
      "metadata": {},
      "source": [
        "--------------------\n",
        "# TRABAJO PRACTICO 1\n",
        "--------------------\n",
        "\n",
        "Alumno: Matias Tripode"
      ]
    },
    {
      "cell_type": "markdown",
      "metadata": {},
      "source": [
        "\n",
        "## Referencias  para el Ejercicio 1)\n",
        "\n",
        "- 1. Algoritmo de Optimización del Gradiente Descendent: https://www.youtube.com/watch?v=iyMFcF36gO0&list=PLT81OVhq-1oEr9XIKszWvLXjzv4bb_5xj&index=44&ab_channel=OssabaTech\n",
        "- 2. Gentle Introduction to the Adam Optimization Algorithm for Deep Learning https://machinelearningmastery.com/adam-optimization-algorithm-for-deep-learning/\n"
      ]
    },
    {
      "cell_type": "markdown",
      "metadata": {},
      "source": [
        "## 1a) Implementación del Gradiente Descendente (1 punto)"
      ]
    },
    {
      "cell_type": "code",
      "execution_count": null,
      "metadata": {},
      "outputs": [],
      "source": [
        "# importar librerias\n",
        "import numpy as np\n",
        "import matplotlib.pyplot as plt"
      ]
    },
    {
      "cell_type": "code",
      "execution_count": null,
      "metadata": {},
      "outputs": [],
      "source": [
        "# -----------------------------------\n",
        "# Funciones a utilizar en GD y ADAM\n",
        "# -----------------------------------\n",
        "\n",
        "# Función no lineal\n",
        "def funcion_no_lineal(W, X, b):\n",
        "    return np.tanh(W * X + b)\n",
        "\n",
        "# Función de costo MSE\n",
        "def compute_cost(y_hat, y):\n",
        "    return np.mean((y_hat - y) ** 2)\n",
        "\n",
        "# Cálculo de gradientes\n",
        "def gradiente(y_hat, data_y, data_x, z):\n",
        "    dz = (y_hat - data_y) * (1 - np.tanh(z)**2)\n",
        "    dw = np.mean(dz * data_x)\n",
        "    db = np.mean(dz)\n",
        "    return (dz, dw, db)\n",
        "\n",
        "# Función de activacion\n",
        "def activacion(z):\n",
        "    return np.tanh(z)\n",
        "\n",
        "# Funcion para graficar\n",
        "def graficarHistorial(plt, cost_history, learning_rate, n_epochs):\n",
        "    plt.plot(range(n_epochs), cost_history, label=f'lr={learning_rate}')\n",
        "\n",
        "def mostrarGrafico(plt, nombre_algoritmo):\n",
        "    plt.title(f\"Costo J(w, b) vs Número de épocas ({nombre_algoritmo})\")\n",
        "    plt.xlabel(\"Épocas\")\n",
        "    plt.ylabel(\"Costo (MSE)\")\n",
        "    plt.legend()\n",
        "    plt.grid(True)\n",
        "    plt.show()\n",
        "\n",
        "def configurarGrafico(plt):\n",
        "    plt.figure(figsize=(8, 6))\n",
        "\n",
        "def graficarAjusteFinal(plt, data_x, data_y, w, b):\n",
        "    # Visualización del ajuste final\n",
        "    plt.scatter(data_x, data_y, color='blue', alpha=0.5, label='Datos')\n",
        "    plt.plot(data_x, funcion_no_lineal(w, data_x, b), color='red', label='Modelo ajustado')\n",
        "    plt.xlabel(\"x\")\n",
        "    plt.ylabel(\"y\")\n",
        "    plt.legend()\n",
        "    plt.grid(True)\n",
        "    plt.show()\n",
        "\n",
        "# Tamańo del data set\n",
        "data_set_size = 100\n",
        "\n",
        "# Hiperparámetros\n",
        "learning_rates = [0.1, 0.01, 0.001]\n",
        "epochs = 200\n"
      ]
    },
    {
      "cell_type": "code",
      "execution_count": null,
      "metadata": {},
      "outputs": [],
      "source": [
        "# --------------------\n",
        "# Generación de datos\n",
        "# --------------------\n",
        "data_x = np.linspace(-2, 2, data_set_size).reshape(-1, 1)  # vector aleatorio con 100 valores entre -2 y 2\n",
        "np.random.seed(42)\n",
        "# valores reales a estimar\n",
        "true_w, true_b = 2.5, -1.0\n",
        "ruido = 0.2 * np.random.randn(data_set_size, 1)\n",
        "# Funcion y datos a aproximar\n",
        "data_y =  funcion_no_lineal(true_w, data_x, true_b) + ruido\n",
        "\n",
        "\n",
        "# ------------------\n",
        "# Implementacion GD\n",
        "# ------------------\n",
        "def gradienteDescendiente(plt, data_x, data_y, epochs, learning_rates, graficar_historial = True):\n",
        "    for learning_rate in learning_rates:\n",
        "        # Inicializar valores de  𝑤  y  𝑏  de manera aleatoria con np.random.randn() \n",
        "        w = np.random.randn()\n",
        "        b = np.random.randn()\n",
        "        # Guarda el historial para luego graficarlo\n",
        "        cost_history = []\n",
        "        # Inicialización de trayectoria\n",
        "        trajectoria = [] # Se utiliza en grafica 3D en 1C)\n",
        "        for _ in range(epochs):\n",
        "            z = w * data_x + b\n",
        "            y_hat = activacion(z)\n",
        "            cost = compute_cost(y_hat, data_y)\n",
        "            cost_history.append(cost)\n",
        "            trajectoria.append((w, b, cost))\n",
        "\n",
        "            # Cálculo de gradientes\n",
        "            _, dw, db =  gradiente(y_hat, data_y, data_x, z)\n",
        "\n",
        "            # Actualización de parámetros\n",
        "            w -= learning_rate * dw\n",
        "            b -= learning_rate * db\n",
        "\n",
        "        # Visualización de la trayectoria de aprendizaje\n",
        "        if graficar_historial:\n",
        "            graficarHistorial(plt, cost_history, learning_rate, epochs)\n",
        "    return (trajectoria, w, b)\n",
        "\n",
        "# Configurar grafico\n",
        "configurarGrafico(plt)\n",
        "# Ejecutar GD\n",
        "gradienteDescendiente(plt, data_x, data_y, epochs, learning_rates)\n",
        "# Graficar GD\n",
        "mostrarGrafico(plt, \"GD\")\n",
        "\n"
      ]
    },
    {
      "cell_type": "markdown",
      "metadata": {},
      "source": [
        "## 1b) Implementación de Adam (1.5 puntos)"
      ]
    },
    {
      "cell_type": "code",
      "execution_count": null,
      "metadata": {},
      "outputs": [],
      "source": [
        "# --------------------\n",
        "# Generación de datos\n",
        "# --------------------\n",
        "data_x = np.linspace(-2, 2, data_set_size).reshape(-1, 1)  # vector aleatorio con 100 valores entre -2 y 2\n",
        "np.random.seed(42)\n",
        "# valores reales a estimar\n",
        "true_w, true_b = 2.5, -1.0\n",
        "ruido = 0.2 * np.random.randn(data_set_size, 1)\n",
        "# Funcion y datos a aproximar\n",
        "data_y =  funcion_no_lineal(true_w, data_x, true_b) + ruido\n",
        "\n",
        "# Parámetros\n",
        "beta1 = 0.9 # 𝛽1=0.9 Controla el promedio móvil del primer momento (la media de los gradientes)\n",
        "beta2 = 0.999 #  β2=0.999: Controla el promedio móvil del segundo momento (la varianza de los gradientes)\n",
        "epsilon = 1e-8 # ϵ=1e−8: Pequeño valor añadido para evitar la división por cero\n",
        "\n",
        "# β1 controla la velocidad de adaptación del gradiente.\n",
        "# 𝛽2 estabiliza el cálculo de la varianza.\n",
        "# 𝜖 garantiza la estabilidad numérica.\n",
        "\n",
        "# Implementacion ADAM \n",
        "def gradiente_adam(plt, data_x, data_y, beta1, beta2, epsilon, learning_rates, graficar_historial = True):\n",
        "    for learning_rate in learning_rates:\n",
        "        w = np.random.randn()\n",
        "        b = np.random.randn()\n",
        "        cost_history = []\n",
        "        # Inicialización de Adam\n",
        "        m_w, v_w = 0, 0\n",
        "        m_b, v_b = 0, 0\n",
        "        # Inicialización de trayectoria\n",
        "        trajectoria = [] # Se utiliza en grafica 3D en 1C)\n",
        "\n",
        "        for t in range(1, epochs + 1):\n",
        "            z = w * data_x + b\n",
        "            y_hat = activacion(z)\n",
        "            cost = compute_cost(y_hat, data_y)\n",
        "            cost_history.append(cost)\n",
        "            trajectoria.append((w, b, cost))\n",
        "            \n",
        "            # Cálculo de gradientes\n",
        "            _, dw, db =  gradiente(y_hat, data_y, data_x, z)\n",
        "\n",
        "            # Actualización de momentos\n",
        "            m_w = beta1 * m_w + (1 - beta1) * dw\n",
        "            v_w = beta2 * v_w + (1 - beta2) * (dw ** 2)\n",
        "\n",
        "            m_b = beta1 * m_b + (1 - beta1) * db\n",
        "            v_b = beta2 * v_b + (1 - beta2) * (db ** 2)\n",
        "\n",
        "            # Corrección de sesgo\n",
        "            m_w_corr = m_w / (1 - beta1 ** t)\n",
        "            v_w_corr = v_w / (1 - beta2 ** t)\n",
        "\n",
        "            m_b_corr = m_b / (1 - beta1 ** t)\n",
        "            v_b_corr = v_b / (1 - beta2 ** t)\n",
        "\n",
        "            # Actualización de parámetros\n",
        "            w -= learning_rate * m_w_corr / (np.sqrt(v_w_corr) + epsilon)\n",
        "            b -= learning_rate * m_b_corr / (np.sqrt(v_b_corr) + epsilon)\n",
        "\n",
        "        # Visualización de la trayectoria de aprendizaje\n",
        "        if graficar_historial:\n",
        "            graficarHistorial(plt, cost_history, learning_rate, epochs)\n",
        "    return (trajectoria, w, b)\n",
        "\n",
        "# Configurar Grafico\n",
        "configurarGrafico(plt)\n",
        "\n",
        "# Ejecutar GD con optimizacion ADAM\n",
        "gradiente_adam(plt, data_x, data_y, beta1, beta2, epsilon, learning_rates)\n",
        "\n",
        "mostrarGrafico(plt, \"ADAM\")\n",
        "\n",
        "\n"
      ]
    },
    {
      "cell_type": "markdown",
      "metadata": {},
      "source": [
        "## 1c) Visualización en 3D de la trayectoria de aprendizaje (0.5 puntos)"
      ]
    },
    {
      "cell_type": "code",
      "execution_count": null,
      "metadata": {},
      "outputs": [],
      "source": [
        "def graficarAprendizajeEnSuperficieDeCosto(data_x, data_y, trayectoria_gd, trayectoria_adam):\n",
        "    # Graficar la superficie de costo\n",
        "    w_vals = np.linspace(-3, 3, 100)\n",
        "    b_vals = np.linspace(-3, 3, 100)\n",
        "    W, B = np.meshgrid(w_vals, b_vals)\n",
        "\n",
        "    cost_surface = np.array([[compute_cost(activacion(W[i, j] * data_x + B[i, j]), data_y)\n",
        "                            for j in range(B.shape[1])]\n",
        "                            for i in range(W.shape[0])])\n",
        "\n",
        "    fig = plt.figure(figsize=(10, 7))\n",
        "    ax = fig.add_subplot(111, projection='3d')\n",
        "    ax.plot_surface(W, B, cost_surface, alpha=0.3, cmap='viridis')\n",
        "\n",
        "    # Añadir trayectorias\n",
        "    trayectoria_gd = np.array(trayectoria_gd)\n",
        "    trayectoria_adam = np.array(trayectoria_adam)\n",
        "    ax.plot(trayectoria_gd[:, 0], trayectoria_gd[:, 1], trayectoria_gd[:, 2], marker='o', color='red', label='GD')\n",
        "    ax.plot(trayectoria_adam[:, 0], trayectoria_adam[:, 1], trayectoria_adam[:, 2], marker='o', color='blue', label='Adam')\n",
        "\n",
        "    ax.set_xlabel(\"w\")\n",
        "    ax.set_ylabel(\"b\")\n",
        "    ax.set_zlabel(\"Costo\")\n",
        "    plt.legend()\n",
        "    plt.title(\"Trayectoria de Aprendizaje en la Superficie de Costo\")\n",
        "    plt.show()\n"
      ]
    },
    {
      "cell_type": "code",
      "execution_count": null,
      "metadata": {},
      "outputs": [],
      "source": [
        "# Generación de datos\n",
        "data_x = np.linspace(-2, 2, 100).reshape(-1, 1)\n",
        "np.random.seed(42)\n",
        "true_w, true_b = 2.5, -1.0\n",
        "noise = 0.2 * np.random.randn(100, 1)\n",
        "data_y = np.tanh(true_w * data_x + true_b) + noise\n",
        "\n",
        "\n",
        "# Parámetros\n",
        "n_epochs = 100\n",
        "learning_rate = 0.1\n",
        "\n",
        "# ---------------------\n",
        "# Gradiente Descendente\n",
        "# ---------------------\n",
        "w_gd = np.random.randn()\n",
        "b_gd = np.random.randn()\n",
        "\n",
        "trayectoria_gd, w_gd, b_gd = gradienteDescendiente(plt, data_x, data_y, epochs, [learning_rate], graficar_historial=False)\n",
        "\n",
        "\n",
        "# ---------------------\n",
        "# ADAM\n",
        "# ---------------------\n",
        "\n",
        "# Parámetros\n",
        "beta1 = 0.9\n",
        "beta2 = 0.999\n",
        "epsilon = 1e-8\n",
        "\n",
        "trayectoria_adam, w_adam, b_adam = gradiente_adam(plt, data_x, data_y, beta1, beta2, epsilon, [learning_rate], graficar_historial=False)\n",
        "\n",
        "# Graficar en 3D la trayectoria del aprendizaje de ambos optimizadores sobre la superficie de la función de costo  𝐽(𝑤,𝑏)\n",
        "graficarAprendizajeEnSuperficieDeCosto(data_x, data_y, trayectoria_gd, trayectoria_adam)\n"
      ]
    },
    {
      "cell_type": "markdown",
      "metadata": {},
      "source": [
        "-------------------"
      ]
    },
    {
      "cell_type": "markdown",
      "metadata": {},
      "source": [
        "## 2a) EDA y preparación del dataset (2 puntos)\n",
        "Realizar el análisis exploratorio del dataset (EDA) con las herramientas vistas en materias anteriores. Pre-procesar las variables, explicar los criterios utilizados y analizar las distribuciones.\n",
        "\n",
        "Vamos a tratar este problema como una clasificación donde queremos averiguar si el cliente pertenece a una categoría: \"Casual\" (gasta menos de 5000), \"Gama media\" (gasta entre 5000 y 10000), \"Fiel\" (gasta entre 10000 y 15000) o a \"Premium\" (gasta más de 15000)."
      ]
    },
    {
      "cell_type": "markdown",
      "metadata": {},
      "source": [
        "# Pre-processamiento \n",
        "\n",
        "En esta etapa buscamos:\n",
        "- Entender los datos.\n",
        "- Ver caracteristicas de los datos\n",
        "- Detectar irregularidades (outliers) de los datos\n",
        "- Obtener valores estadisticao de los datos\n",
        "- Realizar visualizationes rapidas que faciliten el proceso de exploracion.\n",
        "\n",
        "\n",
        "\n",
        "Para realizar el preprocesamiento de datos debemos hacernos las siquientes preguntas\n",
        "1. Cual es el objetivo del analisis? En este caso lo sabemos por que es parte del enunciado.\n",
        "2. Cual es la wariable objectivo? En nuestro caso definimos como`Purchase_Category` (ver mas abajo)\n",
        "3. Que variables afectan mas a la variable objectivo? Que metodos podemos utilizar?\n",
        "4. Como tratamos a los valores nulos?\n",
        "5. Como tratamos a las variables categoricas?\n"
      ]
    },
    {
      "cell_type": "markdown",
      "metadata": {},
      "source": [
        "## REFERENCIAS\n",
        "\n",
        "**7506 - Organización de Datos**\n",
        "- [Clase 4: Analisis Exploratorio de Datos 1, Introduccion al set Spotify, Analisis de Propiedades](https://www.youtube.com/watch?v=NoJs5JIjmJw&list=PLeo_qKwGPZYdpiXwkwDzNq9L_9OMFfd41&ab_channel=7506-Organizaci%C3%B3ndeDatos)\n",
        "- [2021-04-21 - Clase Practica - Feature Engineering](https://www.youtube.com/watch?v=ZL8XWqAOapI&t=807s&ab_channel=datosfiuba)\n"
      ]
    },
    {
      "cell_type": "code",
      "execution_count": null,
      "metadata": {},
      "outputs": [],
      "source": [
        "# importar librerias\n",
        "import numpy as np\n",
        "import matplotlib.pyplot as plt\n",
        "import pandas as pd\n",
        "import seaborn as sns"
      ]
    },
    {
      "cell_type": "code",
      "execution_count": null,
      "metadata": {},
      "outputs": [],
      "source": [
        "# Cargar los datos\n",
        "df = pd.read_csv('dataset_black_sales.csv')"
      ]
    },
    {
      "cell_type": "markdown",
      "metadata": {},
      "source": [
        "## Haremos paso a paso el analsis de los datos"
      ]
    },
    {
      "cell_type": "markdown",
      "metadata": {},
      "source": [
        "**Chequeamos si alguna columna tiene valores no validos**"
      ]
    },
    {
      "cell_type": "code",
      "execution_count": null,
      "metadata": {},
      "outputs": [],
      "source": [
        "tienen_guion = df.astype(str).eq('-').any(axis=0)\n",
        "tienen_guion"
      ]
    },
    {
      "cell_type": "markdown",
      "metadata": {},
      "source": [
        "**Veamos como luce el data frame**"
      ]
    },
    {
      "cell_type": "code",
      "execution_count": null,
      "metadata": {},
      "outputs": [],
      "source": [
        "# Veamos como luce el data frame\n",
        "df.head()"
      ]
    },
    {
      "cell_type": "markdown",
      "metadata": {},
      "source": [
        "**Ver valores unicos por columna**"
      ]
    },
    {
      "cell_type": "code",
      "execution_count": null,
      "metadata": {},
      "outputs": [],
      "source": [
        "df['Age'].unique()\n",
        "# retorna '0-17', '55+', '26-35', '46-50', '51-55', '36-45', '18-25' dtype=object"
      ]
    },
    {
      "cell_type": "code",
      "execution_count": null,
      "metadata": {},
      "outputs": [],
      "source": [
        "df['Stay_In_Current_City_Years'].unique()\n",
        "# retorna '2', '4+', '3', '1', '0' dtype=object"
      ]
    },
    {
      "cell_type": "code",
      "execution_count": null,
      "metadata": {},
      "outputs": [],
      "source": [
        "df['Product_Category_1'].unique()\n",
        "# retorna  3,  1, 12,  8,  5,  4,  2,  6, 14, 11, 13, 15,  7, 16, 18, 10, 17, 9, 20, 19"
      ]
    },
    {
      "cell_type": "code",
      "execution_count": null,
      "metadata": {},
      "outputs": [],
      "source": [
        "df['Product_Category_2'].unique()\n",
        "# retorna: nan,  6., 14.,  2.,  8., 15., 16., 11.,  5.,  3.,  4., 12.,  9., 10., 17., 13.,  7., 18."
      ]
    },
    {
      "cell_type": "code",
      "execution_count": null,
      "metadata": {},
      "outputs": [],
      "source": [
        "df['Product_Category_3'].unique()\n",
        "# retorna: nan, 14., 17.,  5.,  4., 16., 15.,  8.,  9., 13.,  6., 12.,  3., 18., 11., 10."
      ]
    },
    {
      "cell_type": "code",
      "execution_count": null,
      "metadata": {},
      "outputs": [],
      "source": [
        "df['Occupation'].unique()\n",
        "# returna: 10, 16, 15,  7, 20,  9,  1, 12, 17,  0,  3,  4, 11,  8, 19,  2, 18, 5, 14, 13,  6"
      ]
    },
    {
      "cell_type": "code",
      "execution_count": null,
      "metadata": {},
      "outputs": [],
      "source": [
        "df['City_Category'].unique()\n",
        "# retorna: 'A', 'C', 'B'\n"
      ]
    },
    {
      "cell_type": "markdown",
      "metadata": {},
      "source": [
        "NOTA: Vemos que `Product_Category_1` tiene valores del tipo entero, encambio `Product_Category_2` y `Product_Category_3` tienen valores del tipo double."
      ]
    },
    {
      "cell_type": "markdown",
      "metadata": {},
      "source": [
        "**Ver informacion estadistica del data frame**"
      ]
    },
    {
      "cell_type": "code",
      "execution_count": null,
      "metadata": {},
      "outputs": [],
      "source": [
        "# podemos ver informacion de las columnas y atributos del frame\n",
        "df.info() "
      ]
    },
    {
      "cell_type": "markdown",
      "metadata": {},
      "source": [
        "**Resumen estadístico**"
      ]
    },
    {
      "cell_type": "code",
      "execution_count": null,
      "metadata": {},
      "outputs": [],
      "source": [
        "print(df.describe())"
      ]
    },
    {
      "cell_type": "markdown",
      "metadata": {},
      "source": [
        "**Ver las dimensiones del data frame**"
      ]
    },
    {
      "cell_type": "code",
      "execution_count": null,
      "metadata": {},
      "outputs": [],
      "source": [
        "# ver las dimensiones del data frame\n",
        "df.shape"
      ]
    },
    {
      "cell_type": "markdown",
      "metadata": {},
      "source": [
        "**Ver que columnas tiene valores nulos**"
      ]
    },
    {
      "cell_type": "code",
      "execution_count": null,
      "metadata": {},
      "outputs": [],
      "source": [
        "# ver que columnas tiene valores nulos\n",
        "df.isnull().sum()"
      ]
    },
    {
      "cell_type": "markdown",
      "metadata": {},
      "source": [
        "La cantidad de valores `no nulos` obtenidos mas arriba de ejecutar `df.info() ` son:\n",
        "\n",
        "```\n",
        "| Columna               |  Cantidad de NO nulos  |\n",
        "| Product_Category_2    |   376430               | \n",
        "| Product_Category_3    |   166821               | \n",
        "```\n",
        "\n",
        "Pero al ejecutar `df.isnull().sum()` vemos que las siguientes dos columnas tienen un gran % de `valores nulos`.\n",
        "```\n",
        "| Columna               |  Cantidad de nulos  |\n",
        "| Product_Category_2    |   173638            | \n",
        "| Product_Category_3    |   383247            | \n",
        "```\n",
        "`NOTA`: Entonces debemos hacer algun tratamiento de valores nulos para no perder tanta cantidad de filas de nuestro data frame"
      ]
    },
    {
      "cell_type": "code",
      "execution_count": null,
      "metadata": {},
      "outputs": [],
      "source": [
        "# Vamos a rellenar los valores faltantes con la moda de la columna.\n",
        "df.update(df['Product_Category_2'].fillna(df['Product_Category_2'].mode()[0]))\n",
        "df.update(df['Product_Category_3'].fillna(df['Product_Category_3'].mode()[0]))\n",
        "\n",
        "# Convertir las columanas a enteros como es `Product_Category_1`\n",
        "df['Product_Category_2'] = df['Product_Category_2'].astype(int)\n",
        "df['Product_Category_3'] = df['Product_Category_3'].astype(int)\n"
      ]
    },
    {
      "cell_type": "code",
      "execution_count": null,
      "metadata": {},
      "outputs": [],
      "source": [
        "# Volver a ver que columnas tiene valores nulos. No deberian existir nulos dado el tratamiento dado a a las columnas `Product_Category_2` y `Product_Category_3`\n",
        "df.isnull().sum()"
      ]
    },
    {
      "cell_type": "markdown",
      "metadata": {},
      "source": [
        "**Clasificación de clientes**"
      ]
    },
    {
      "cell_type": "code",
      "execution_count": null,
      "metadata": {},
      "outputs": [],
      "source": [
        "# Clasificación de clientes\n",
        "def categorize_purchase(value):\n",
        "    if value < 5000:\n",
        "        return 'Casual'\n",
        "    elif 5000 <= value < 10000:\n",
        "        return 'Gama media'\n",
        "    elif 10000 <= value < 15000:\n",
        "        return 'Fiel'\n",
        "    else:\n",
        "        return 'Premium'\n",
        "\n",
        "# Aplicar la función\n",
        "df['Purchase_Category'] = df['Purchase'].apply(categorize_purchase)"
      ]
    },
    {
      "cell_type": "markdown",
      "metadata": {},
      "source": [
        "**Codificar variables categoricas**"
      ]
    },
    {
      "cell_type": "code",
      "execution_count": null,
      "metadata": {},
      "outputs": [],
      "source": [
        "from sklearn.preprocessing import LabelEncoder\n",
        "\n",
        "# Codificación de variables categóricas\n",
        "# El `LabelEncoder` codifica etiquetas con valores entre 0 y n_clases - 1.\n",
        "# label_encoder = LabelEncoder()\n",
        "# df['Gender'] = label_encoder.fit_transform(df['Gender']) \n",
        "# df['City_Category'] = label_encoder.fit_transform(df['City_Category']) \n",
        "\n",
        "# One-Hot Encoding para otras variables categóricas\n",
        "# Con `drop_first=True` quito las primeras columnas por cada clase a codificar, para evitar generar una relacion lineal entre valores.\n",
        "df_encoded = pd.get_dummies(df, columns=['Marital_Status', 'Age', 'Gender', 'City_Category'], drop_first=True) # 'City_Category'\n",
        "\n",
        "# Eliminar columnas no numéricas para calcular la matrix de correlación\n",
        "df_numeric = df_encoded.drop(['Product_ID', 'Stay_In_Current_City_Years', 'Purchase_Category', 'City_Category'], axis=1, errors='ignore')"
      ]
    },
    {
      "cell_type": "code",
      "execution_count": null,
      "metadata": {},
      "outputs": [],
      "source": [
        "# Normalización de la variable Purchase\n",
        "from sklearn.preprocessing import StandardScaler\n",
        "\n",
        "scaler = StandardScaler()\n",
        "df_numeric['Purchase'] = scaler.fit_transform(df_numeric[['Purchase']])"
      ]
    },
    {
      "cell_type": "code",
      "execution_count": null,
      "metadata": {},
      "outputs": [],
      "source": [
        "import warnings\n",
        "# Suprimir la advertencia\n",
        "warnings.filterwarnings(\"ignore\", category=UserWarning)\n",
        "\n",
        "# Matriz de correlación\n",
        "correlation_matrix = df_numeric.corr()\n",
        "\n",
        "# Graficar el heatmap\n",
        "plt.figure(figsize=(10, 8))\n",
        "sns.heatmap(correlation_matrix, annot=True, cmap=\"coolwarm\", fmt=\".2f\", linewidths=0.5)\n",
        "plt.title('Heatmap de Correlación')\n",
        "plt.show()"
      ]
    },
    {
      "cell_type": "markdown",
      "metadata": {},
      "source": [
        "**Visualización de la distribución de compras**"
      ]
    },
    {
      "cell_type": "code",
      "execution_count": null,
      "metadata": {},
      "outputs": [],
      "source": [
        "# Visualización de la distribución de compras\n",
        "plt.figure(figsize=(8, 5))\n",
        "sns.histplot(df['Purchase'], bins=50, kde=True, color='purple')\n",
        "plt.title(\"Distribución de Compras\")\n",
        "plt.show()"
      ]
    },
    {
      "cell_type": "markdown",
      "metadata": {},
      "source": [
        "**Visualizacion de la distribución por categoría de cliente**"
      ]
    },
    {
      "cell_type": "code",
      "execution_count": null,
      "metadata": {},
      "outputs": [],
      "source": [
        "# Distribución por categoría de cliente\n",
        "plt.figure(figsize=(6, 4))\n",
        "sns.countplot(x='Purchase_Category',  hue='Purchase_Category',data=df, palette='pastel')\n",
        "plt.title(\"Distribución por Categoría de Cliente\")\n",
        "plt.show()"
      ]
    },
    {
      "cell_type": "markdown",
      "metadata": {},
      "source": [
        "**Visualizacion de la distribución de variables numéricas**\n"
      ]
    },
    {
      "cell_type": "code",
      "execution_count": null,
      "metadata": {},
      "outputs": [],
      "source": [
        "columnas_a_excluir = ['User_ID']\n",
        "df_filtrado = df.drop(columns=columnas_a_excluir)\n",
        "\n",
        "\n",
        "df_filtrado.hist(bins=30, figsize=(15, 10))\n",
        "plt.suptitle('Distribución de Variables Numéricas')\n",
        "plt.show()\n",
        "plt.close()"
      ]
    },
    {
      "cell_type": "markdown",
      "metadata": {},
      "source": [
        "**Distribución de variables categóricas**"
      ]
    },
    {
      "cell_type": "code",
      "execution_count": null,
      "metadata": {},
      "outputs": [],
      "source": [
        "sns.countplot(x='Gender', data=df)\n",
        "plt.title('Distribución de Género')\n",
        "plt.show()\n",
        "plt.close()\n",
        "\n",
        "sns.countplot(x='City_Category', data=df)\n",
        "plt.title('Distribución de Categoría de Ciudad')\n",
        "plt.show()\n",
        "plt.close()"
      ]
    },
    {
      "cell_type": "markdown",
      "metadata": {},
      "source": [
        "-----------------"
      ]
    },
    {
      "cell_type": "markdown",
      "metadata": {},
      "source": [
        "## 2b) Benchmark de modelos de ML clásico (1 punto)\n",
        "\n",
        "Definir uno o varios puntos de comparación (benchmark) para comparar entre sí al menos 2 modelos distintos. Estos deben ser modelos de ML clásico de la librería sklearn de fácil y rápido entrenamiento.\n",
        "\n"
      ]
    },
    {
      "cell_type": "markdown",
      "metadata": {},
      "source": [
        "**Dividimos el dataset en conjuntos de entrenamiento y prueba.**"
      ]
    },
    {
      "cell_type": "code",
      "execution_count": null,
      "metadata": {},
      "outputs": [],
      "source": [
        "from sklearn.model_selection import train_test_split\n",
        "\n",
        "# Hago drop de las siquientes columnas\n",
        "X = df_encoded.drop(['User_ID', 'Product_ID', 'Purchase', 'Stay_In_Current_City_Years', 'Purchase_Category'], axis=1)\n",
        "# Variable target `Purchase_Category`\n",
        "y = df_encoded['Purchase_Category']\n",
        "\n",
        "# Dividir los datos 70/30\n",
        "X_train, X_test, y_train, y_test = train_test_split(X, y, test_size=0.3, random_state=42)"
      ]
    },
    {
      "cell_type": "markdown",
      "metadata": {},
      "source": [
        "**Utilizamos un árbol de decisión como primer modelo de comparación.**"
      ]
    },
    {
      "cell_type": "code",
      "execution_count": null,
      "metadata": {},
      "outputs": [],
      "source": [
        "from sklearn.tree import DecisionTreeClassifier\n",
        "from sklearn.metrics import classification_report, accuracy_score\n",
        "\n",
        "# Entrenar el modelo\n",
        "dt = DecisionTreeClassifier(random_state=42)\n",
        "dt.fit(X_train, y_train)\n",
        "\n",
        "# Predecir y evaluar\n",
        "y_pred_dt = dt.predict(X_test)\n",
        "print(\"Árbol de Decisión:\")\n",
        "print(classification_report(y_test, y_pred_dt))\n",
        "print(\"Accuracy:\", accuracy_score(y_test, y_pred_dt))"
      ]
    },
    {
      "cell_type": "markdown",
      "metadata": {},
      "source": [
        "**Utilizamos una regresión logística como segundo modelo de comparación.**"
      ]
    },
    {
      "cell_type": "code",
      "execution_count": null,
      "metadata": {},
      "outputs": [],
      "source": [
        "from sklearn.linear_model import LogisticRegression\n",
        "\n",
        "# Entrenar el modelo\n",
        "lr = LogisticRegression(max_iter=1000, random_state=42)\n",
        "lr.fit(X_train, y_train)\n",
        "\n",
        "# Predecir y evaluar\n",
        "y_pred_lr = lr.predict(X_test)\n",
        "print(\"Regresión Logística:\")\n",
        "print(classification_report(y_test, y_pred_lr))\n",
        "print(\"Accuracy:\", accuracy_score(y_test, y_pred_lr))"
      ]
    },
    {
      "cell_type": "markdown",
      "metadata": {},
      "source": [
        "**Comparativa**\n",
        "\n",
        "Vemos que el `DecisionTreeClassifier` tiene mejor `Accuracy: 0.6858824028456985` vs el `LogisticRegression` con `Accuracy: 0.5423552153968283`"
      ]
    },
    {
      "cell_type": "markdown",
      "metadata": {},
      "source": [
        "--------------------"
      ]
    },
    {
      "cell_type": "markdown",
      "metadata": {},
      "source": [
        "## 2c) Modelo de deep leaning sin embeddings (1.5 puntos)\n",
        "\n",
        "Entrenar un modelo de deep learning usando Pytorch que no utilice embeddings, descartando el product_id y user_id. Graficar las evoluciones de la función de costo y la metrica de validacion. Explicar el proceso de iteracion utilizado para conseguir los resultados y justificar los resultados obtenidos.\n"
      ]
    },
    {
      "cell_type": "code",
      "execution_count": null,
      "metadata": {},
      "outputs": [],
      "source": [
        "import torch\n",
        "import torch.nn as nn\n",
        "import torch.optim as optim\n",
        "from torch.utils.data import DataLoader, TensorDataset"
      ]
    },
    {
      "cell_type": "code",
      "execution_count": null,
      "metadata": {},
      "outputs": [],
      "source": [
        "# df_numeric no contiene 'User_ID', 'Product_ID'\n",
        "df = df_numeric\n",
        "\n",
        "# Codificar la variable objetivo\n",
        "label_encoder = LabelEncoder()\n",
        "df['Purchase_Category'] = label_encoder.fit_transform(df_encoded['Purchase_Category'])\n"
      ]
    },
    {
      "cell_type": "code",
      "execution_count": null,
      "metadata": {},
      "outputs": [],
      "source": [
        "# Convertir todas las columnas booleanas a enteros (0 y 1)\n",
        "df = df.astype(int)\n",
        "\n",
        "# Dividir el dataset en características y etiquetas\n",
        "X = df.drop('Purchase_Category', axis=1).values\n",
        "y = df['Purchase_Category'].values\n",
        "\n",
        "# Convertir a tensores de PyTorch\n",
        "X = torch.tensor(X, dtype=torch.float32)\n",
        "y = torch.tensor(y, dtype=torch.long)"
      ]
    },
    {
      "cell_type": "code",
      "execution_count": null,
      "metadata": {},
      "outputs": [],
      "source": [
        "# Dividir en conjuntos de entrenamiento y prueba\n",
        "X_train, X_test, y_train, y_test = train_test_split(X, y, test_size=0.3, random_state=42)\n"
      ]
    },
    {
      "cell_type": "code",
      "execution_count": null,
      "metadata": {},
      "outputs": [],
      "source": [
        "# Crear DataLoader\n",
        "train_dataset = TensorDataset(X_train, y_train)\n",
        "test_dataset = TensorDataset(X_test, y_test)\n",
        "\n",
        "train_loader = DataLoader(train_dataset, batch_size=64, shuffle=True)\n",
        "test_loader = DataLoader(test_dataset, batch_size=64, shuffle=False)"
      ]
    },
    {
      "cell_type": "markdown",
      "metadata": {},
      "source": [
        "**Definimos un modelo de red neuronal simple con dos capas ocultas.**"
      ]
    },
    {
      "cell_type": "code",
      "execution_count": null,
      "metadata": {},
      "outputs": [],
      "source": [
        "class SimpleNN(nn.Module):\n",
        "    def __init__(self, input_size, hidden_size, output_size):\n",
        "        super(SimpleNN, self).__init__()\n",
        "        self.fc1 = nn.Linear(input_size, hidden_size)\n",
        "        self.fc2 = nn.Linear(hidden_size, hidden_size)\n",
        "        self.fc3 = nn.Linear(hidden_size, output_size)\n",
        "        self.relu = nn.ReLU()\n",
        "\n",
        "    def forward(self, x):\n",
        "        out = self.fc1(x)\n",
        "        out = self.relu(out)\n",
        "        out = self.fc2(out)\n",
        "        out = self.relu(out)\n",
        "        out = self.fc3(out)\n",
        "        return out"
      ]
    },
    {
      "cell_type": "code",
      "execution_count": null,
      "metadata": {},
      "outputs": [],
      "source": [
        "# Definir el modelo\n",
        "input_size = X_train.shape[1]\n",
        "hidden_size = 128\n",
        "output_size = len(label_encoder.classes_)\n",
        "model = SimpleNN(input_size, hidden_size, output_size)"
      ]
    },
    {
      "cell_type": "markdown",
      "metadata": {},
      "source": [
        "**Definición de la Función de Costo y Optimizador**"
      ]
    },
    {
      "cell_type": "code",
      "execution_count": null,
      "metadata": {},
      "outputs": [],
      "source": [
        "criterion = nn.CrossEntropyLoss()\n",
        "optimizer = optim.Adam(model.parameters(), lr=0.001)"
      ]
    },
    {
      "cell_type": "markdown",
      "metadata": {},
      "source": [
        "**Entrenamiento del Modelo**"
      ]
    },
    {
      "cell_type": "code",
      "execution_count": null,
      "metadata": {},
      "outputs": [
        {
          "name": "stdout",
          "output_type": "stream",
          "text": [
            "Epoch [15/20], Loss: 1.2564, Validation Accuracy: 0.4838\n",
            "Epoch [16/20], Loss: 1.2564, Validation Accuracy: 0.4838\n",
            "Epoch [17/20], Loss: 1.2565, Validation Accuracy: 0.4838\n"
          ]
        }
      ],
      "source": [
        "num_epochs = 20\n",
        "train_losses = []\n",
        "val_accuracies = []\n",
        "\n",
        "for epoch in range(num_epochs):\n",
        "    model.train()\n",
        "    running_loss = 0.0\n",
        "    for inputs, labels in train_loader:\n",
        "        optimizer.zero_grad()\n",
        "        outputs = model(inputs)\n",
        "        loss = criterion(outputs, labels)\n",
        "        loss.backward()\n",
        "        optimizer.step()\n",
        "        running_loss += loss.item()\n",
        "    \n",
        "    train_loss = running_loss / len(train_loader)\n",
        "    train_losses.append(train_loss)\n",
        "    \n",
        "    # Validación\n",
        "    model.eval()\n",
        "    correct = 0\n",
        "    total = 0\n",
        "    with torch.no_grad():\n",
        "        for inputs, labels in test_loader:\n",
        "            outputs = model(inputs)\n",
        "            _, predicted = torch.max(outputs.data, 1)\n",
        "            total += labels.size(0)\n",
        "            correct += (predicted == labels).sum().item()\n",
        "    \n",
        "    val_accuracy = correct / total\n",
        "    val_accuracies.append(val_accuracy)\n",
        "    \n",
        "    print(f'Epoch [{epoch+1}/{num_epochs}], Loss: {train_loss:.4f}, Validation Accuracy: {val_accuracy:.4f}')"
      ]
    },
    {
      "cell_type": "markdown",
      "metadata": {},
      "source": [
        "**Gráficas de Evolución**"
      ]
    },
    {
      "cell_type": "code",
      "execution_count": null,
      "metadata": {},
      "outputs": [],
      "source": [
        "import matplotlib.pyplot as plt\n",
        "\n",
        "# Gráfica de la función de costo\n",
        "plt.plot(train_losses, label='Training Loss')\n",
        "plt.xlabel('Epoch')\n",
        "plt.ylabel('Loss')\n",
        "plt.title('Training Loss Over Epochs')\n",
        "plt.legend()\n",
        "plt.show()\n",
        "\n",
        "# Gráfica de la precisión en validación\n",
        "plt.plot(val_accuracies, label='Validation Accuracy')\n",
        "plt.xlabel('Epoch')\n",
        "plt.ylabel('Accuracy')\n",
        "plt.title('Validation Accuracy Over Epochs')\n",
        "plt.legend()\n",
        "plt.show()"
      ]
    }
  ],
  "metadata": {
    "colab": {
      "provenance": [],
      "toc_visible": true
    },
    "kernelspec": {
      "display_name": "intro_ai_311",
      "language": "python",
      "name": "python3"
    },
    "language_info": {
      "codemirror_mode": {
        "name": "ipython",
        "version": 3
      },
      "file_extension": ".py",
      "mimetype": "text/x-python",
      "name": "python",
      "nbconvert_exporter": "python",
      "pygments_lexer": "ipython3",
      "version": "3.11.10"
    },
    "widgets": {
      "application/vnd.jupyter.widget-state+json": {
        "13d224b36b3542fbb3a62278ac452ab5": {
          "model_module": "@jupyter-widgets/base",
          "model_module_version": "1.2.0",
          "model_name": "LayoutModel",
          "state": {
            "_model_module": "@jupyter-widgets/base",
            "_model_module_version": "1.2.0",
            "_model_name": "LayoutModel",
            "_view_count": null,
            "_view_module": "@jupyter-widgets/base",
            "_view_module_version": "1.2.0",
            "_view_name": "LayoutView",
            "align_content": null,
            "align_items": null,
            "align_self": null,
            "border": null,
            "bottom": null,
            "display": null,
            "flex": null,
            "flex_flow": null,
            "grid_area": null,
            "grid_auto_columns": null,
            "grid_auto_flow": null,
            "grid_auto_rows": null,
            "grid_column": null,
            "grid_gap": null,
            "grid_row": null,
            "grid_template_areas": null,
            "grid_template_columns": null,
            "grid_template_rows": null,
            "height": null,
            "justify_content": null,
            "justify_items": null,
            "left": null,
            "margin": null,
            "max_height": null,
            "max_width": null,
            "min_height": null,
            "min_width": null,
            "object_fit": null,
            "object_position": null,
            "order": null,
            "overflow": null,
            "overflow_x": null,
            "overflow_y": null,
            "padding": null,
            "right": null,
            "top": null,
            "visibility": null,
            "width": null
          }
        },
        "190b04bdf8744f88903c9ee3d7d38da3": {
          "model_module": "@jupyter-widgets/controls",
          "model_module_version": "1.5.0",
          "model_name": "HTMLModel",
          "state": {
            "_dom_classes": [],
            "_model_module": "@jupyter-widgets/controls",
            "_model_module_version": "1.5.0",
            "_model_name": "HTMLModel",
            "_view_count": null,
            "_view_module": "@jupyter-widgets/controls",
            "_view_module_version": "1.5.0",
            "_view_name": "HTMLView",
            "description": "",
            "description_tooltip": null,
            "layout": "IPY_MODEL_f47d92c1623b4301824c0d4753475bb4",
            "placeholder": "​",
            "style": "IPY_MODEL_ea225558e31e4e3c8fc4773efb4c49ac",
            "value": " 250/250 [00:00&lt;00:00, 355.61it/s, epoch=10/10, train_loss=0.6124, val_loss=28.9868, lr=0.006302]"
          }
        },
        "7606cf07777540e39a762c121a430dc6": {
          "model_module": "@jupyter-widgets/controls",
          "model_module_version": "1.5.0",
          "model_name": "FloatProgressModel",
          "state": {
            "_dom_classes": [],
            "_model_module": "@jupyter-widgets/controls",
            "_model_module_version": "1.5.0",
            "_model_name": "FloatProgressModel",
            "_view_count": null,
            "_view_module": "@jupyter-widgets/controls",
            "_view_module_version": "1.5.0",
            "_view_name": "ProgressView",
            "bar_style": "success",
            "description": "",
            "description_tooltip": null,
            "layout": "IPY_MODEL_c70ac181795d45308d3806b517889bf5",
            "max": 250,
            "min": 0,
            "orientation": "horizontal",
            "style": "IPY_MODEL_95dc24700c6d4657b81634262ef442ce",
            "value": 250
          }
        },
        "95dc24700c6d4657b81634262ef442ce": {
          "model_module": "@jupyter-widgets/controls",
          "model_module_version": "1.5.0",
          "model_name": "ProgressStyleModel",
          "state": {
            "_model_module": "@jupyter-widgets/controls",
            "_model_module_version": "1.5.0",
            "_model_name": "ProgressStyleModel",
            "_view_count": null,
            "_view_module": "@jupyter-widgets/base",
            "_view_module_version": "1.2.0",
            "_view_name": "StyleView",
            "bar_color": null,
            "description_width": ""
          }
        },
        "aa0f12e2db464d1f82f5d61ee8278171": {
          "model_module": "@jupyter-widgets/controls",
          "model_module_version": "1.5.0",
          "model_name": "HBoxModel",
          "state": {
            "_dom_classes": [],
            "_model_module": "@jupyter-widgets/controls",
            "_model_module_version": "1.5.0",
            "_model_name": "HBoxModel",
            "_view_count": null,
            "_view_module": "@jupyter-widgets/controls",
            "_view_module_version": "1.5.0",
            "_view_name": "HBoxView",
            "box_style": "",
            "children": [
              "IPY_MODEL_b222a6fd7ed14c79b376fcf51ad746d9",
              "IPY_MODEL_7606cf07777540e39a762c121a430dc6",
              "IPY_MODEL_190b04bdf8744f88903c9ee3d7d38da3"
            ],
            "layout": "IPY_MODEL_c0ffc5aad63e4272a824e11fa07266aa"
          }
        },
        "aef5cf2346ac4f888a4b4537834f37ea": {
          "model_module": "@jupyter-widgets/controls",
          "model_module_version": "1.5.0",
          "model_name": "DescriptionStyleModel",
          "state": {
            "_model_module": "@jupyter-widgets/controls",
            "_model_module_version": "1.5.0",
            "_model_name": "DescriptionStyleModel",
            "_view_count": null,
            "_view_module": "@jupyter-widgets/base",
            "_view_module_version": "1.2.0",
            "_view_name": "StyleView",
            "description_width": ""
          }
        },
        "b222a6fd7ed14c79b376fcf51ad746d9": {
          "model_module": "@jupyter-widgets/controls",
          "model_module_version": "1.5.0",
          "model_name": "HTMLModel",
          "state": {
            "_dom_classes": [],
            "_model_module": "@jupyter-widgets/controls",
            "_model_module_version": "1.5.0",
            "_model_name": "HTMLModel",
            "_view_count": null,
            "_view_module": "@jupyter-widgets/controls",
            "_view_module_version": "1.5.0",
            "_view_name": "HTMLView",
            "description": "",
            "description_tooltip": null,
            "layout": "IPY_MODEL_13d224b36b3542fbb3a62278ac452ab5",
            "placeholder": "​",
            "style": "IPY_MODEL_aef5cf2346ac4f888a4b4537834f37ea",
            "value": "100%"
          }
        },
        "c0ffc5aad63e4272a824e11fa07266aa": {
          "model_module": "@jupyter-widgets/base",
          "model_module_version": "1.2.0",
          "model_name": "LayoutModel",
          "state": {
            "_model_module": "@jupyter-widgets/base",
            "_model_module_version": "1.2.0",
            "_model_name": "LayoutModel",
            "_view_count": null,
            "_view_module": "@jupyter-widgets/base",
            "_view_module_version": "1.2.0",
            "_view_name": "LayoutView",
            "align_content": null,
            "align_items": null,
            "align_self": null,
            "border": null,
            "bottom": null,
            "display": null,
            "flex": null,
            "flex_flow": null,
            "grid_area": null,
            "grid_auto_columns": null,
            "grid_auto_flow": null,
            "grid_auto_rows": null,
            "grid_column": null,
            "grid_gap": null,
            "grid_row": null,
            "grid_template_areas": null,
            "grid_template_columns": null,
            "grid_template_rows": null,
            "height": null,
            "justify_content": null,
            "justify_items": null,
            "left": null,
            "margin": null,
            "max_height": null,
            "max_width": null,
            "min_height": null,
            "min_width": null,
            "object_fit": null,
            "object_position": null,
            "order": null,
            "overflow": null,
            "overflow_x": null,
            "overflow_y": null,
            "padding": null,
            "right": null,
            "top": null,
            "visibility": null,
            "width": null
          }
        },
        "c70ac181795d45308d3806b517889bf5": {
          "model_module": "@jupyter-widgets/base",
          "model_module_version": "1.2.0",
          "model_name": "LayoutModel",
          "state": {
            "_model_module": "@jupyter-widgets/base",
            "_model_module_version": "1.2.0",
            "_model_name": "LayoutModel",
            "_view_count": null,
            "_view_module": "@jupyter-widgets/base",
            "_view_module_version": "1.2.0",
            "_view_name": "LayoutView",
            "align_content": null,
            "align_items": null,
            "align_self": null,
            "border": null,
            "bottom": null,
            "display": null,
            "flex": null,
            "flex_flow": null,
            "grid_area": null,
            "grid_auto_columns": null,
            "grid_auto_flow": null,
            "grid_auto_rows": null,
            "grid_column": null,
            "grid_gap": null,
            "grid_row": null,
            "grid_template_areas": null,
            "grid_template_columns": null,
            "grid_template_rows": null,
            "height": null,
            "justify_content": null,
            "justify_items": null,
            "left": null,
            "margin": null,
            "max_height": null,
            "max_width": null,
            "min_height": null,
            "min_width": null,
            "object_fit": null,
            "object_position": null,
            "order": null,
            "overflow": null,
            "overflow_x": null,
            "overflow_y": null,
            "padding": null,
            "right": null,
            "top": null,
            "visibility": null,
            "width": null
          }
        },
        "ea225558e31e4e3c8fc4773efb4c49ac": {
          "model_module": "@jupyter-widgets/controls",
          "model_module_version": "1.5.0",
          "model_name": "DescriptionStyleModel",
          "state": {
            "_model_module": "@jupyter-widgets/controls",
            "_model_module_version": "1.5.0",
            "_model_name": "DescriptionStyleModel",
            "_view_count": null,
            "_view_module": "@jupyter-widgets/base",
            "_view_module_version": "1.2.0",
            "_view_name": "StyleView",
            "description_width": ""
          }
        },
        "f47d92c1623b4301824c0d4753475bb4": {
          "model_module": "@jupyter-widgets/base",
          "model_module_version": "1.2.0",
          "model_name": "LayoutModel",
          "state": {
            "_model_module": "@jupyter-widgets/base",
            "_model_module_version": "1.2.0",
            "_model_name": "LayoutModel",
            "_view_count": null,
            "_view_module": "@jupyter-widgets/base",
            "_view_module_version": "1.2.0",
            "_view_name": "LayoutView",
            "align_content": null,
            "align_items": null,
            "align_self": null,
            "border": null,
            "bottom": null,
            "display": null,
            "flex": null,
            "flex_flow": null,
            "grid_area": null,
            "grid_auto_columns": null,
            "grid_auto_flow": null,
            "grid_auto_rows": null,
            "grid_column": null,
            "grid_gap": null,
            "grid_row": null,
            "grid_template_areas": null,
            "grid_template_columns": null,
            "grid_template_rows": null,
            "height": null,
            "justify_content": null,
            "justify_items": null,
            "left": null,
            "margin": null,
            "max_height": null,
            "max_width": null,
            "min_height": null,
            "min_width": null,
            "object_fit": null,
            "object_position": null,
            "order": null,
            "overflow": null,
            "overflow_x": null,
            "overflow_y": null,
            "padding": null,
            "right": null,
            "top": null,
            "visibility": null,
            "width": null
          }
        }
      }
    }
  },
  "nbformat": 4,
  "nbformat_minor": 0
}
